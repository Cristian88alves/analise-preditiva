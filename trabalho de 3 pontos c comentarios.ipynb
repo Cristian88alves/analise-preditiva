{
 "cells": [
  {
   "cell_type": "code",
   "execution_count": 50,
   "id": "0dabf8df",
   "metadata": {},
   "outputs": [],
   "source": [
    "import numpy as np\n",
    "import pandas as pd\n",
    "3\n",
    "import re\n",
    "import string\n",
    "\n",
    "from unidecode import unidecode\n",
    "import nltk\n",
    "from nltk.corpus import stopwords\n",
    "from nltk.stem import PorterStemmer\n",
    "from sklearn.model_selection import train_test_split\n",
    "from sklearn.linear_model import LogisticRegression\n",
    "from sklearn.metrics import accuracy_score, classification_report, confusion_matrix\n",
    "from sklearn.linear_model import LinearRegression\n",
    "from sklearn.feature_extraction.text import TfidfVectorizer\n",
    "from sklearn.metrics import mean_squared_error, mean_absolute_error, r2_score\n",
    "\n",
    "import seaborn as sns\n",
    "import matplotlib.pyplot as plt"
   ]
  },
  {
   "cell_type": "code",
   "execution_count": 22,
   "id": "64978a09",
   "metadata": {
    "scrolled": true
   },
   "outputs": [
    {
     "data": {
      "text/html": [
       "<div>\n",
       "<style scoped>\n",
       "    .dataframe tbody tr th:only-of-type {\n",
       "        vertical-align: middle;\n",
       "    }\n",
       "\n",
       "    .dataframe tbody tr th {\n",
       "        vertical-align: top;\n",
       "    }\n",
       "\n",
       "    .dataframe thead th {\n",
       "        text-align: right;\n",
       "    }\n",
       "</style>\n",
       "<table border=\"1\" class=\"dataframe\">\n",
       "  <thead>\n",
       "    <tr style=\"text-align: right;\">\n",
       "      <th></th>\n",
       "      <th>i_ano_obito</th>\n",
       "      <th>i_cid_cap</th>\n",
       "      <th>i_cid_capitulo</th>\n",
       "      <th>i_cid_obito</th>\n",
       "      <th>i_desc_cbo</th>\n",
       "      <th>i_desc_cid_obito</th>\n",
       "      <th>i_desc_local_obito</th>\n",
       "      <th>i_desc_raca_cor</th>\n",
       "      <th>i_desc_radf_res</th>\n",
       "      <th>i_desc_regiao_saude_estab</th>\n",
       "      <th>...</th>\n",
       "      <th>i_desc_sigla_estab_cnes</th>\n",
       "      <th>i_desc_tipo_obito</th>\n",
       "      <th>i_desc_tipo_violencia</th>\n",
       "      <th>i_desc_uf_res</th>\n",
       "      <th>i_faixa_etaria</th>\n",
       "      <th>i_idade_anos</th>\n",
       "      <th>i_mes_obito</th>\n",
       "      <th>i_qtd_obitos</th>\n",
       "      <th>i_sexo</th>\n",
       "      <th>id</th>\n",
       "    </tr>\n",
       "  </thead>\n",
       "  <tbody>\n",
       "    <tr>\n",
       "      <th>0</th>\n",
       "      <td>2019</td>\n",
       "      <td>IX</td>\n",
       "      <td>Capítulo IX - Doenças do aparelho circulatório</td>\n",
       "      <td>I461</td>\n",
       "      <td>Pedreiro</td>\n",
       "      <td>Morte súbita (de origem) cardíaca, descrita de...</td>\n",
       "      <td>Domicílio</td>\n",
       "      <td>Parda</td>\n",
       "      <td>Samambaia</td>\n",
       "      <td>Não Informado</td>\n",
       "      <td>...</td>\n",
       "      <td>Não Informado</td>\n",
       "      <td>não fetal</td>\n",
       "      <td>Não Informado</td>\n",
       "      <td>DF</td>\n",
       "      <td>75_79_anos</td>\n",
       "      <td>78.0</td>\n",
       "      <td>4</td>\n",
       "      <td>1</td>\n",
       "      <td>Masculino</td>\n",
       "      <td>6741108</td>\n",
       "    </tr>\n",
       "    <tr>\n",
       "      <th>1</th>\n",
       "      <td>2019</td>\n",
       "      <td>XVII</td>\n",
       "      <td>Capítulo XVII - Malformações congênitas, defor...</td>\n",
       "      <td>Q430</td>\n",
       "      <td>Psicólogo clínico</td>\n",
       "      <td>Divertículo de Meckel</td>\n",
       "      <td>Hospital</td>\n",
       "      <td>Branca</td>\n",
       "      <td>Plano Piloto</td>\n",
       "      <td>Privado</td>\n",
       "      <td>...</td>\n",
       "      <td>Hosp Sta Helena</td>\n",
       "      <td>não fetal</td>\n",
       "      <td>Não Informado</td>\n",
       "      <td>DF</td>\n",
       "      <td>80_+_anos</td>\n",
       "      <td>84.0</td>\n",
       "      <td>4</td>\n",
       "      <td>1</td>\n",
       "      <td>Masculino</td>\n",
       "      <td>6741059</td>\n",
       "    </tr>\n",
       "    <tr>\n",
       "      <th>2</th>\n",
       "      <td>2019</td>\n",
       "      <td>XI</td>\n",
       "      <td>Capítulo XI - Doenças do aparelho digestivo</td>\n",
       "      <td>K746</td>\n",
       "      <td>Trabalhador volante da agricultura</td>\n",
       "      <td>Outras formas de cirrose hepática e as não esp...</td>\n",
       "      <td>Hospital</td>\n",
       "      <td>Parda</td>\n",
       "      <td>Ceilândia</td>\n",
       "      <td>Região Central</td>\n",
       "      <td>...</td>\n",
       "      <td>HRAN</td>\n",
       "      <td>não fetal</td>\n",
       "      <td>Não Informado</td>\n",
       "      <td>DF</td>\n",
       "      <td>75_79_anos</td>\n",
       "      <td>77.0</td>\n",
       "      <td>4</td>\n",
       "      <td>1</td>\n",
       "      <td>Feminino</td>\n",
       "      <td>6741156</td>\n",
       "    </tr>\n",
       "    <tr>\n",
       "      <th>3</th>\n",
       "      <td>2019</td>\n",
       "      <td>II</td>\n",
       "      <td>Capítulo II - Neoplasias [tumores]</td>\n",
       "      <td>C762</td>\n",
       "      <td>Não Informado</td>\n",
       "      <td>Neoplasia maligna do abdome</td>\n",
       "      <td>Hospital</td>\n",
       "      <td>Branca</td>\n",
       "      <td>Sobradinho II</td>\n",
       "      <td>Região Norte</td>\n",
       "      <td>...</td>\n",
       "      <td>HRS</td>\n",
       "      <td>não fetal</td>\n",
       "      <td>Não Informado</td>\n",
       "      <td>DF</td>\n",
       "      <td>80_+_anos</td>\n",
       "      <td>81.0</td>\n",
       "      <td>4</td>\n",
       "      <td>1</td>\n",
       "      <td>Feminino</td>\n",
       "      <td>6741168</td>\n",
       "    </tr>\n",
       "    <tr>\n",
       "      <th>4</th>\n",
       "      <td>2019</td>\n",
       "      <td>II</td>\n",
       "      <td>Capítulo II - Neoplasias [tumores]</td>\n",
       "      <td>C349</td>\n",
       "      <td>Não Informado</td>\n",
       "      <td>Neoplasia maligna dos brônquios ou pulmões, nã...</td>\n",
       "      <td>Hospital</td>\n",
       "      <td>Preta</td>\n",
       "      <td>Gama</td>\n",
       "      <td>Região Sul</td>\n",
       "      <td>...</td>\n",
       "      <td>HRG</td>\n",
       "      <td>não fetal</td>\n",
       "      <td>Não Informado</td>\n",
       "      <td>DF</td>\n",
       "      <td>80_+_anos</td>\n",
       "      <td>84.0</td>\n",
       "      <td>4</td>\n",
       "      <td>1</td>\n",
       "      <td>Feminino</td>\n",
       "      <td>6741207</td>\n",
       "    </tr>\n",
       "    <tr>\n",
       "      <th>...</th>\n",
       "      <td>...</td>\n",
       "      <td>...</td>\n",
       "      <td>...</td>\n",
       "      <td>...</td>\n",
       "      <td>...</td>\n",
       "      <td>...</td>\n",
       "      <td>...</td>\n",
       "      <td>...</td>\n",
       "      <td>...</td>\n",
       "      <td>...</td>\n",
       "      <td>...</td>\n",
       "      <td>...</td>\n",
       "      <td>...</td>\n",
       "      <td>...</td>\n",
       "      <td>...</td>\n",
       "      <td>...</td>\n",
       "      <td>...</td>\n",
       "      <td>...</td>\n",
       "      <td>...</td>\n",
       "      <td>...</td>\n",
       "      <td>...</td>\n",
       "    </tr>\n",
       "    <tr>\n",
       "      <th>89870</th>\n",
       "      <td>2023</td>\n",
       "      <td>II</td>\n",
       "      <td>Capítulo II - Neoplasias [tumores]</td>\n",
       "      <td>C56</td>\n",
       "      <td>Administrador</td>\n",
       "      <td>Neoplasia maligna do ovário</td>\n",
       "      <td>Hospital</td>\n",
       "      <td>Branca</td>\n",
       "      <td>Santa Maria</td>\n",
       "      <td>Privado</td>\n",
       "      <td>...</td>\n",
       "      <td>Hosp Sta Luzia</td>\n",
       "      <td>não fetal</td>\n",
       "      <td>Não Informado</td>\n",
       "      <td>DF</td>\n",
       "      <td>35_39_anos</td>\n",
       "      <td>37.0</td>\n",
       "      <td>9</td>\n",
       "      <td>1</td>\n",
       "      <td>Feminino</td>\n",
       "      <td>6858285</td>\n",
       "    </tr>\n",
       "    <tr>\n",
       "      <th>89871</th>\n",
       "      <td>2023</td>\n",
       "      <td>IV</td>\n",
       "      <td>Capítulo IV - Doenças endócrinas, nutricionais...</td>\n",
       "      <td>E149</td>\n",
       "      <td>Motorista de carro de passeio</td>\n",
       "      <td>Diabetes mellitus não especificado - sem compl...</td>\n",
       "      <td>Hospital</td>\n",
       "      <td>Branca</td>\n",
       "      <td>Cruzeiro</td>\n",
       "      <td>Contratado/Credenciado</td>\n",
       "      <td>...</td>\n",
       "      <td>Hosp. São Mateus</td>\n",
       "      <td>não fetal</td>\n",
       "      <td>Não Informado</td>\n",
       "      <td>DF</td>\n",
       "      <td>80_+_anos</td>\n",
       "      <td>85.0</td>\n",
       "      <td>9</td>\n",
       "      <td>1</td>\n",
       "      <td>Masculino</td>\n",
       "      <td>6857976</td>\n",
       "    </tr>\n",
       "    <tr>\n",
       "      <th>89872</th>\n",
       "      <td>2023</td>\n",
       "      <td>XI</td>\n",
       "      <td>Capítulo XI - Doenças do aparelho digestivo</td>\n",
       "      <td>K703</td>\n",
       "      <td>Não Informado</td>\n",
       "      <td>Cirrose hepática alcoólica</td>\n",
       "      <td>Outro Estab de Saúde</td>\n",
       "      <td>Branca</td>\n",
       "      <td>Vicente Pires</td>\n",
       "      <td>Região Sudoeste</td>\n",
       "      <td>...</td>\n",
       "      <td>UPA Vicente Pires</td>\n",
       "      <td>não fetal</td>\n",
       "      <td>Não Informado</td>\n",
       "      <td>DF</td>\n",
       "      <td>65_69_anos</td>\n",
       "      <td>65.0</td>\n",
       "      <td>9</td>\n",
       "      <td>1</td>\n",
       "      <td>Masculino</td>\n",
       "      <td>6858081</td>\n",
       "    </tr>\n",
       "    <tr>\n",
       "      <th>89873</th>\n",
       "      <td>2023</td>\n",
       "      <td>XVIII</td>\n",
       "      <td>Capítulo XVIII - Sintomas, sinais e achados an...</td>\n",
       "      <td>R99</td>\n",
       "      <td>Não Informado</td>\n",
       "      <td>Outras causas mal definidas e as não especific...</td>\n",
       "      <td>Hospital</td>\n",
       "      <td>Não Informado</td>\n",
       "      <td>Planaltina</td>\n",
       "      <td>Região Norte</td>\n",
       "      <td>...</td>\n",
       "      <td>HRPL</td>\n",
       "      <td>não fetal</td>\n",
       "      <td>Não Informado</td>\n",
       "      <td>DF</td>\n",
       "      <td>00_&lt;_1_ano</td>\n",
       "      <td>0.0</td>\n",
       "      <td>9</td>\n",
       "      <td>1</td>\n",
       "      <td>Masculino</td>\n",
       "      <td>6858090</td>\n",
       "    </tr>\n",
       "    <tr>\n",
       "      <th>89874</th>\n",
       "      <td>2023</td>\n",
       "      <td>IX</td>\n",
       "      <td>Capítulo IX - Doenças do aparelho circulatório</td>\n",
       "      <td>I251</td>\n",
       "      <td>Enfermeiro</td>\n",
       "      <td>Doença aterosclerótica do coração</td>\n",
       "      <td>Hospital</td>\n",
       "      <td>Branca</td>\n",
       "      <td>Plano Piloto</td>\n",
       "      <td>Contratado/Credenciado</td>\n",
       "      <td>...</td>\n",
       "      <td>Home Hosp. Ort. Med. Esp.</td>\n",
       "      <td>não fetal</td>\n",
       "      <td>Não Informado</td>\n",
       "      <td>DF</td>\n",
       "      <td>80_+_anos</td>\n",
       "      <td>86.0</td>\n",
       "      <td>9</td>\n",
       "      <td>1</td>\n",
       "      <td>Feminino</td>\n",
       "      <td>6858092</td>\n",
       "    </tr>\n",
       "  </tbody>\n",
       "</table>\n",
       "<p>89875 rows × 21 columns</p>\n",
       "</div>"
      ],
      "text/plain": [
       "       i_ano_obito i_cid_cap  \\\n",
       "0             2019        IX   \n",
       "1             2019      XVII   \n",
       "2             2019        XI   \n",
       "3             2019        II   \n",
       "4             2019        II   \n",
       "...            ...       ...   \n",
       "89870         2023        II   \n",
       "89871         2023        IV   \n",
       "89872         2023        XI   \n",
       "89873         2023     XVIII   \n",
       "89874         2023        IX   \n",
       "\n",
       "                                          i_cid_capitulo i_cid_obito  \\\n",
       "0         Capítulo IX - Doenças do aparelho circulatório        I461   \n",
       "1      Capítulo XVII - Malformações congênitas, defor...        Q430   \n",
       "2            Capítulo XI - Doenças do aparelho digestivo        K746   \n",
       "3                     Capítulo II - Neoplasias [tumores]        C762   \n",
       "4                     Capítulo II - Neoplasias [tumores]        C349   \n",
       "...                                                  ...         ...   \n",
       "89870                 Capítulo II - Neoplasias [tumores]         C56   \n",
       "89871  Capítulo IV - Doenças endócrinas, nutricionais...        E149   \n",
       "89872        Capítulo XI - Doenças do aparelho digestivo        K703   \n",
       "89873  Capítulo XVIII - Sintomas, sinais e achados an...         R99   \n",
       "89874     Capítulo IX - Doenças do aparelho circulatório        I251   \n",
       "\n",
       "                               i_desc_cbo  \\\n",
       "0                                Pedreiro   \n",
       "1                       Psicólogo clínico   \n",
       "2      Trabalhador volante da agricultura   \n",
       "3                           Não Informado   \n",
       "4                           Não Informado   \n",
       "...                                   ...   \n",
       "89870                       Administrador   \n",
       "89871       Motorista de carro de passeio   \n",
       "89872                       Não Informado   \n",
       "89873                       Não Informado   \n",
       "89874                          Enfermeiro   \n",
       "\n",
       "                                        i_desc_cid_obito  \\\n",
       "0      Morte súbita (de origem) cardíaca, descrita de...   \n",
       "1                                  Divertículo de Meckel   \n",
       "2      Outras formas de cirrose hepática e as não esp...   \n",
       "3                            Neoplasia maligna do abdome   \n",
       "4      Neoplasia maligna dos brônquios ou pulmões, nã...   \n",
       "...                                                  ...   \n",
       "89870                        Neoplasia maligna do ovário   \n",
       "89871  Diabetes mellitus não especificado - sem compl...   \n",
       "89872                         Cirrose hepática alcoólica   \n",
       "89873  Outras causas mal definidas e as não especific...   \n",
       "89874                  Doença aterosclerótica do coração   \n",
       "\n",
       "         i_desc_local_obito i_desc_raca_cor i_desc_radf_res  \\\n",
       "0                 Domicílio           Parda       Samambaia   \n",
       "1                  Hospital          Branca    Plano Piloto   \n",
       "2                  Hospital           Parda       Ceilândia   \n",
       "3                  Hospital          Branca   Sobradinho II   \n",
       "4                  Hospital           Preta            Gama   \n",
       "...                     ...             ...             ...   \n",
       "89870              Hospital          Branca     Santa Maria   \n",
       "89871              Hospital          Branca        Cruzeiro   \n",
       "89872  Outro Estab de Saúde          Branca   Vicente Pires   \n",
       "89873              Hospital   Não Informado      Planaltina   \n",
       "89874              Hospital          Branca    Plano Piloto   \n",
       "\n",
       "      i_desc_regiao_saude_estab  ...    i_desc_sigla_estab_cnes  \\\n",
       "0                 Não Informado  ...              Não Informado   \n",
       "1                       Privado  ...            Hosp Sta Helena   \n",
       "2                Região Central  ...                       HRAN   \n",
       "3                  Região Norte  ...                        HRS   \n",
       "4                    Região Sul  ...                        HRG   \n",
       "...                         ...  ...                        ...   \n",
       "89870                   Privado  ...             Hosp Sta Luzia   \n",
       "89871    Contratado/Credenciado  ...           Hosp. São Mateus   \n",
       "89872           Região Sudoeste  ...          UPA Vicente Pires   \n",
       "89873              Região Norte  ...                       HRPL   \n",
       "89874    Contratado/Credenciado  ...  Home Hosp. Ort. Med. Esp.   \n",
       "\n",
       "      i_desc_tipo_obito i_desc_tipo_violencia i_desc_uf_res i_faixa_etaria  \\\n",
       "0             não fetal         Não Informado            DF     75_79_anos   \n",
       "1             não fetal         Não Informado            DF      80_+_anos   \n",
       "2             não fetal         Não Informado            DF     75_79_anos   \n",
       "3             não fetal         Não Informado            DF      80_+_anos   \n",
       "4             não fetal         Não Informado            DF      80_+_anos   \n",
       "...                 ...                   ...           ...            ...   \n",
       "89870         não fetal         Não Informado            DF     35_39_anos   \n",
       "89871         não fetal         Não Informado            DF      80_+_anos   \n",
       "89872         não fetal         Não Informado            DF     65_69_anos   \n",
       "89873         não fetal         Não Informado            DF     00_<_1_ano   \n",
       "89874         não fetal         Não Informado            DF      80_+_anos   \n",
       "\n",
       "      i_idade_anos  i_mes_obito  i_qtd_obitos     i_sexo       id  \n",
       "0             78.0            4             1  Masculino  6741108  \n",
       "1             84.0            4             1  Masculino  6741059  \n",
       "2             77.0            4             1   Feminino  6741156  \n",
       "3             81.0            4             1   Feminino  6741168  \n",
       "4             84.0            4             1   Feminino  6741207  \n",
       "...            ...          ...           ...        ...      ...  \n",
       "89870         37.0            9             1   Feminino  6858285  \n",
       "89871         85.0            9             1  Masculino  6857976  \n",
       "89872         65.0            9             1  Masculino  6858081  \n",
       "89873          0.0            9             1  Masculino  6858090  \n",
       "89874         86.0            9             1   Feminino  6858092  \n",
       "\n",
       "[89875 rows x 21 columns]"
      ]
     },
     "execution_count": 22,
     "metadata": {},
     "output_type": "execute_result"
    }
   ],
   "source": [
    "obitos = pd.read_csv('obitos2019-2023df.csv', sep=';')\n",
    "obitos"
   ]
  },
  {
   "cell_type": "code",
   "execution_count": 23,
   "id": "e3a2a652",
   "metadata": {},
   "outputs": [
    {
     "name": "stdout",
     "output_type": "stream",
     "text": [
      "<class 'pandas.core.frame.DataFrame'>\n",
      "RangeIndex: 89875 entries, 0 to 89874\n",
      "Data columns (total 21 columns):\n",
      " #   Column                     Non-Null Count  Dtype  \n",
      "---  ------                     --------------  -----  \n",
      " 0   i_ano_obito                89875 non-null  int64  \n",
      " 1   i_cid_cap                  89872 non-null  object \n",
      " 2   i_cid_capitulo             89872 non-null  object \n",
      " 3   i_cid_obito                89875 non-null  object \n",
      " 4   i_desc_cbo                 89875 non-null  object \n",
      " 5   i_desc_cid_obito           89875 non-null  object \n",
      " 6   i_desc_local_obito         89875 non-null  object \n",
      " 7   i_desc_raca_cor            89875 non-null  object \n",
      " 8   i_desc_radf_res            89835 non-null  object \n",
      " 9   i_desc_regiao_saude_estab  89875 non-null  object \n",
      " 10  i_desc_regiao_saude_res    89422 non-null  object \n",
      " 11  i_desc_sigla_estab_cnes    89875 non-null  object \n",
      " 12  i_desc_tipo_obito          89875 non-null  object \n",
      " 13  i_desc_tipo_violencia      89875 non-null  object \n",
      " 14  i_desc_uf_res              89875 non-null  object \n",
      " 15  i_faixa_etaria             89875 non-null  object \n",
      " 16  i_idade_anos               87089 non-null  float64\n",
      " 17  i_mes_obito                89875 non-null  int64  \n",
      " 18  i_qtd_obitos               89875 non-null  int64  \n",
      " 19  i_sexo                     89875 non-null  object \n",
      " 20  id                         89875 non-null  int64  \n",
      "dtypes: float64(1), int64(4), object(16)\n",
      "memory usage: 14.4+ MB\n"
     ]
    }
   ],
   "source": [
    "obitos.info()"
   ]
  },
  {
   "cell_type": "markdown",
   "id": "4c28b0ea",
   "metadata": {},
   "source": [
    "# exercício 3\n",
    "\n",
    "### excluíndo colunas desnecessárias para a analise."
   ]
  },
  {
   "cell_type": "code",
   "execution_count": 24,
   "id": "a4d28faa",
   "metadata": {
    "scrolled": false
   },
   "outputs": [],
   "source": [
    "obitos = obitos.drop('id', axis=1)\n",
    "obitos.drop('i_qtd_obitos', axis=1, inplace=True)\n",
    "obitos.drop('i_cid_cap', axis=1, inplace=True)\n",
    "obitos.drop('i_desc_cbo', axis=1, inplace=True)\n",
    "obitos.drop('i_desc_tipo_obito', axis=1, inplace=True)\n",
    "obitos.drop('i_cid_capitulo', axis=1, inplace=True)\n",
    "obitos.drop('i_cid_obito', axis=1, inplace=True)\n",
    "obitos.drop('i_desc_cid_obito', axis=1, inplace=True)"
   ]
  },
  {
   "cell_type": "code",
   "execution_count": 25,
   "id": "5d8fce16",
   "metadata": {},
   "outputs": [
    {
     "data": {
      "text/html": [
       "<div>\n",
       "<style scoped>\n",
       "    .dataframe tbody tr th:only-of-type {\n",
       "        vertical-align: middle;\n",
       "    }\n",
       "\n",
       "    .dataframe tbody tr th {\n",
       "        vertical-align: top;\n",
       "    }\n",
       "\n",
       "    .dataframe thead th {\n",
       "        text-align: right;\n",
       "    }\n",
       "</style>\n",
       "<table border=\"1\" class=\"dataframe\">\n",
       "  <thead>\n",
       "    <tr style=\"text-align: right;\">\n",
       "      <th></th>\n",
       "      <th>i_ano_obito</th>\n",
       "      <th>i_desc_local_obito</th>\n",
       "      <th>i_desc_raca_cor</th>\n",
       "      <th>i_desc_radf_res</th>\n",
       "      <th>i_desc_regiao_saude_estab</th>\n",
       "      <th>i_desc_regiao_saude_res</th>\n",
       "      <th>i_desc_sigla_estab_cnes</th>\n",
       "      <th>i_desc_tipo_violencia</th>\n",
       "      <th>i_desc_uf_res</th>\n",
       "      <th>i_faixa_etaria</th>\n",
       "      <th>i_idade_anos</th>\n",
       "      <th>i_mes_obito</th>\n",
       "      <th>i_sexo</th>\n",
       "    </tr>\n",
       "  </thead>\n",
       "  <tbody>\n",
       "    <tr>\n",
       "      <th>0</th>\n",
       "      <td>2019</td>\n",
       "      <td>Domicílio</td>\n",
       "      <td>Parda</td>\n",
       "      <td>Samambaia</td>\n",
       "      <td>Não Informado</td>\n",
       "      <td>Região Sudoeste</td>\n",
       "      <td>Não Informado</td>\n",
       "      <td>Não Informado</td>\n",
       "      <td>DF</td>\n",
       "      <td>75_79_anos</td>\n",
       "      <td>78.0</td>\n",
       "      <td>4</td>\n",
       "      <td>Masculino</td>\n",
       "    </tr>\n",
       "    <tr>\n",
       "      <th>1</th>\n",
       "      <td>2019</td>\n",
       "      <td>Hospital</td>\n",
       "      <td>Branca</td>\n",
       "      <td>Plano Piloto</td>\n",
       "      <td>Privado</td>\n",
       "      <td>Região Central</td>\n",
       "      <td>Hosp Sta Helena</td>\n",
       "      <td>Não Informado</td>\n",
       "      <td>DF</td>\n",
       "      <td>80_+_anos</td>\n",
       "      <td>84.0</td>\n",
       "      <td>4</td>\n",
       "      <td>Masculino</td>\n",
       "    </tr>\n",
       "    <tr>\n",
       "      <th>2</th>\n",
       "      <td>2019</td>\n",
       "      <td>Hospital</td>\n",
       "      <td>Parda</td>\n",
       "      <td>Ceilândia</td>\n",
       "      <td>Região Central</td>\n",
       "      <td>Região Oeste</td>\n",
       "      <td>HRAN</td>\n",
       "      <td>Não Informado</td>\n",
       "      <td>DF</td>\n",
       "      <td>75_79_anos</td>\n",
       "      <td>77.0</td>\n",
       "      <td>4</td>\n",
       "      <td>Feminino</td>\n",
       "    </tr>\n",
       "    <tr>\n",
       "      <th>3</th>\n",
       "      <td>2019</td>\n",
       "      <td>Hospital</td>\n",
       "      <td>Branca</td>\n",
       "      <td>Sobradinho II</td>\n",
       "      <td>Região Norte</td>\n",
       "      <td>Região Norte</td>\n",
       "      <td>HRS</td>\n",
       "      <td>Não Informado</td>\n",
       "      <td>DF</td>\n",
       "      <td>80_+_anos</td>\n",
       "      <td>81.0</td>\n",
       "      <td>4</td>\n",
       "      <td>Feminino</td>\n",
       "    </tr>\n",
       "    <tr>\n",
       "      <th>4</th>\n",
       "      <td>2019</td>\n",
       "      <td>Hospital</td>\n",
       "      <td>Preta</td>\n",
       "      <td>Gama</td>\n",
       "      <td>Região Sul</td>\n",
       "      <td>Região Sul</td>\n",
       "      <td>HRG</td>\n",
       "      <td>Não Informado</td>\n",
       "      <td>DF</td>\n",
       "      <td>80_+_anos</td>\n",
       "      <td>84.0</td>\n",
       "      <td>4</td>\n",
       "      <td>Feminino</td>\n",
       "    </tr>\n",
       "    <tr>\n",
       "      <th>...</th>\n",
       "      <td>...</td>\n",
       "      <td>...</td>\n",
       "      <td>...</td>\n",
       "      <td>...</td>\n",
       "      <td>...</td>\n",
       "      <td>...</td>\n",
       "      <td>...</td>\n",
       "      <td>...</td>\n",
       "      <td>...</td>\n",
       "      <td>...</td>\n",
       "      <td>...</td>\n",
       "      <td>...</td>\n",
       "      <td>...</td>\n",
       "    </tr>\n",
       "    <tr>\n",
       "      <th>89870</th>\n",
       "      <td>2023</td>\n",
       "      <td>Hospital</td>\n",
       "      <td>Branca</td>\n",
       "      <td>Santa Maria</td>\n",
       "      <td>Privado</td>\n",
       "      <td>Região Sul</td>\n",
       "      <td>Hosp Sta Luzia</td>\n",
       "      <td>Não Informado</td>\n",
       "      <td>DF</td>\n",
       "      <td>35_39_anos</td>\n",
       "      <td>37.0</td>\n",
       "      <td>9</td>\n",
       "      <td>Feminino</td>\n",
       "    </tr>\n",
       "    <tr>\n",
       "      <th>89871</th>\n",
       "      <td>2023</td>\n",
       "      <td>Hospital</td>\n",
       "      <td>Branca</td>\n",
       "      <td>Cruzeiro</td>\n",
       "      <td>Contratado/Credenciado</td>\n",
       "      <td>Região Central</td>\n",
       "      <td>Hosp. São Mateus</td>\n",
       "      <td>Não Informado</td>\n",
       "      <td>DF</td>\n",
       "      <td>80_+_anos</td>\n",
       "      <td>85.0</td>\n",
       "      <td>9</td>\n",
       "      <td>Masculino</td>\n",
       "    </tr>\n",
       "    <tr>\n",
       "      <th>89872</th>\n",
       "      <td>2023</td>\n",
       "      <td>Outro Estab de Saúde</td>\n",
       "      <td>Branca</td>\n",
       "      <td>Vicente Pires</td>\n",
       "      <td>Região Sudoeste</td>\n",
       "      <td>Região Sudoeste</td>\n",
       "      <td>UPA Vicente Pires</td>\n",
       "      <td>Não Informado</td>\n",
       "      <td>DF</td>\n",
       "      <td>65_69_anos</td>\n",
       "      <td>65.0</td>\n",
       "      <td>9</td>\n",
       "      <td>Masculino</td>\n",
       "    </tr>\n",
       "    <tr>\n",
       "      <th>89873</th>\n",
       "      <td>2023</td>\n",
       "      <td>Hospital</td>\n",
       "      <td>Não Informado</td>\n",
       "      <td>Planaltina</td>\n",
       "      <td>Região Norte</td>\n",
       "      <td>Região Norte</td>\n",
       "      <td>HRPL</td>\n",
       "      <td>Não Informado</td>\n",
       "      <td>DF</td>\n",
       "      <td>00_&lt;_1_ano</td>\n",
       "      <td>0.0</td>\n",
       "      <td>9</td>\n",
       "      <td>Masculino</td>\n",
       "    </tr>\n",
       "    <tr>\n",
       "      <th>89874</th>\n",
       "      <td>2023</td>\n",
       "      <td>Hospital</td>\n",
       "      <td>Branca</td>\n",
       "      <td>Plano Piloto</td>\n",
       "      <td>Contratado/Credenciado</td>\n",
       "      <td>Região Central</td>\n",
       "      <td>Home Hosp. Ort. Med. Esp.</td>\n",
       "      <td>Não Informado</td>\n",
       "      <td>DF</td>\n",
       "      <td>80_+_anos</td>\n",
       "      <td>86.0</td>\n",
       "      <td>9</td>\n",
       "      <td>Feminino</td>\n",
       "    </tr>\n",
       "  </tbody>\n",
       "</table>\n",
       "<p>89875 rows × 13 columns</p>\n",
       "</div>"
      ],
      "text/plain": [
       "       i_ano_obito    i_desc_local_obito i_desc_raca_cor i_desc_radf_res  \\\n",
       "0             2019             Domicílio           Parda       Samambaia   \n",
       "1             2019              Hospital          Branca    Plano Piloto   \n",
       "2             2019              Hospital           Parda       Ceilândia   \n",
       "3             2019              Hospital          Branca   Sobradinho II   \n",
       "4             2019              Hospital           Preta            Gama   \n",
       "...            ...                   ...             ...             ...   \n",
       "89870         2023              Hospital          Branca     Santa Maria   \n",
       "89871         2023              Hospital          Branca        Cruzeiro   \n",
       "89872         2023  Outro Estab de Saúde          Branca   Vicente Pires   \n",
       "89873         2023              Hospital   Não Informado      Planaltina   \n",
       "89874         2023              Hospital          Branca    Plano Piloto   \n",
       "\n",
       "      i_desc_regiao_saude_estab i_desc_regiao_saude_res  \\\n",
       "0                 Não Informado         Região Sudoeste   \n",
       "1                       Privado          Região Central   \n",
       "2                Região Central            Região Oeste   \n",
       "3                  Região Norte            Região Norte   \n",
       "4                    Região Sul              Região Sul   \n",
       "...                         ...                     ...   \n",
       "89870                   Privado              Região Sul   \n",
       "89871    Contratado/Credenciado          Região Central   \n",
       "89872           Região Sudoeste         Região Sudoeste   \n",
       "89873              Região Norte            Região Norte   \n",
       "89874    Contratado/Credenciado          Região Central   \n",
       "\n",
       "         i_desc_sigla_estab_cnes i_desc_tipo_violencia i_desc_uf_res  \\\n",
       "0                  Não Informado         Não Informado            DF   \n",
       "1                Hosp Sta Helena         Não Informado            DF   \n",
       "2                           HRAN         Não Informado            DF   \n",
       "3                            HRS         Não Informado            DF   \n",
       "4                            HRG         Não Informado            DF   \n",
       "...                          ...                   ...           ...   \n",
       "89870             Hosp Sta Luzia         Não Informado            DF   \n",
       "89871           Hosp. São Mateus         Não Informado            DF   \n",
       "89872          UPA Vicente Pires         Não Informado            DF   \n",
       "89873                       HRPL         Não Informado            DF   \n",
       "89874  Home Hosp. Ort. Med. Esp.         Não Informado            DF   \n",
       "\n",
       "      i_faixa_etaria  i_idade_anos  i_mes_obito     i_sexo  \n",
       "0         75_79_anos          78.0            4  Masculino  \n",
       "1          80_+_anos          84.0            4  Masculino  \n",
       "2         75_79_anos          77.0            4   Feminino  \n",
       "3          80_+_anos          81.0            4   Feminino  \n",
       "4          80_+_anos          84.0            4   Feminino  \n",
       "...              ...           ...          ...        ...  \n",
       "89870     35_39_anos          37.0            9   Feminino  \n",
       "89871      80_+_anos          85.0            9  Masculino  \n",
       "89872     65_69_anos          65.0            9  Masculino  \n",
       "89873     00_<_1_ano           0.0            9  Masculino  \n",
       "89874      80_+_anos          86.0            9   Feminino  \n",
       "\n",
       "[89875 rows x 13 columns]"
      ]
     },
     "execution_count": 25,
     "metadata": {},
     "output_type": "execute_result"
    }
   ],
   "source": [
    "obitos"
   ]
  },
  {
   "cell_type": "code",
   "execution_count": 26,
   "id": "fdac39ad",
   "metadata": {
    "scrolled": true
   },
   "outputs": [
    {
     "name": "stdout",
     "output_type": "stream",
     "text": [
      "<class 'pandas.core.frame.DataFrame'>\n",
      "RangeIndex: 89875 entries, 0 to 89874\n",
      "Data columns (total 13 columns):\n",
      " #   Column                     Non-Null Count  Dtype  \n",
      "---  ------                     --------------  -----  \n",
      " 0   i_ano_obito                89875 non-null  int64  \n",
      " 1   i_desc_local_obito         89875 non-null  object \n",
      " 2   i_desc_raca_cor            89875 non-null  object \n",
      " 3   i_desc_radf_res            89835 non-null  object \n",
      " 4   i_desc_regiao_saude_estab  89875 non-null  object \n",
      " 5   i_desc_regiao_saude_res    89422 non-null  object \n",
      " 6   i_desc_sigla_estab_cnes    89875 non-null  object \n",
      " 7   i_desc_tipo_violencia      89875 non-null  object \n",
      " 8   i_desc_uf_res              89875 non-null  object \n",
      " 9   i_faixa_etaria             89875 non-null  object \n",
      " 10  i_idade_anos               87089 non-null  float64\n",
      " 11  i_mes_obito                89875 non-null  int64  \n",
      " 12  i_sexo                     89875 non-null  object \n",
      "dtypes: float64(1), int64(2), object(10)\n",
      "memory usage: 8.9+ MB\n"
     ]
    }
   ],
   "source": [
    "obitos.info()"
   ]
  },
  {
   "cell_type": "code",
   "execution_count": 27,
   "id": "1a7b5156",
   "metadata": {},
   "outputs": [
    {
     "data": {
      "text/plain": [
       "i_ano_obito                     0\n",
       "i_desc_local_obito              0\n",
       "i_desc_raca_cor                 0\n",
       "i_desc_radf_res                40\n",
       "i_desc_regiao_saude_estab       0\n",
       "i_desc_regiao_saude_res       453\n",
       "i_desc_sigla_estab_cnes         0\n",
       "i_desc_tipo_violencia           0\n",
       "i_desc_uf_res                   0\n",
       "i_faixa_etaria                  0\n",
       "i_idade_anos                 2786\n",
       "i_mes_obito                     0\n",
       "i_sexo                          0\n",
       "dtype: int64"
      ]
     },
     "execution_count": 27,
     "metadata": {},
     "output_type": "execute_result"
    }
   ],
   "source": [
    "obitos.isnull().sum()"
   ]
  },
  {
   "cell_type": "markdown",
   "id": "d6470a2b",
   "metadata": {},
   "source": [
    "## retirada dos dados nulos"
   ]
  },
  {
   "cell_type": "markdown",
   "id": "9ef2c446",
   "metadata": {},
   "source": [
    "### Foram retirados todos os nulos, pois não afetaria a análise do dataset pela quantidade de dados."
   ]
  },
  {
   "cell_type": "code",
   "execution_count": 28,
   "id": "f59a7a49",
   "metadata": {},
   "outputs": [],
   "source": [
    "obitos.dropna(inplace=True)"
   ]
  },
  {
   "cell_type": "code",
   "execution_count": 29,
   "id": "9487e8b0",
   "metadata": {},
   "outputs": [
    {
     "data": {
      "text/plain": [
       "i_ano_obito                  0\n",
       "i_desc_local_obito           0\n",
       "i_desc_raca_cor              0\n",
       "i_desc_radf_res              0\n",
       "i_desc_regiao_saude_estab    0\n",
       "i_desc_regiao_saude_res      0\n",
       "i_desc_sigla_estab_cnes      0\n",
       "i_desc_tipo_violencia        0\n",
       "i_desc_uf_res                0\n",
       "i_faixa_etaria               0\n",
       "i_idade_anos                 0\n",
       "i_mes_obito                  0\n",
       "i_sexo                       0\n",
       "dtype: int64"
      ]
     },
     "execution_count": 29,
     "metadata": {},
     "output_type": "execute_result"
    }
   ],
   "source": [
    "obitos.isnull().sum()"
   ]
  },
  {
   "cell_type": "markdown",
   "id": "2eb08dde",
   "metadata": {},
   "source": [
    "## anotações"
   ]
  },
  {
   "cell_type": "code",
   "execution_count": 30,
   "id": "29d2fee7",
   "metadata": {},
   "outputs": [
    {
     "data": {
      "text/plain": [
       "Não Informado    78517\n",
       "Acidente          4051\n",
       "Homicídio         2027\n",
       "Suicídio          1089\n",
       "Ignorado           873\n",
       "Outros             143\n",
       "Name: i_desc_tipo_violencia, dtype: int64"
      ]
     },
     "execution_count": 30,
     "metadata": {},
     "output_type": "execute_result"
    }
   ],
   "source": [
    "obitos.i_desc_tipo_violencia.value_counts()"
   ]
  },
  {
   "cell_type": "markdown",
   "id": "e575829e",
   "metadata": {},
   "source": [
    "## Analise preditiva"
   ]
  },
  {
   "cell_type": "markdown",
   "id": "746e2a0c",
   "metadata": {},
   "source": [
    "### Modelo de Regressão Logística"
   ]
  },
  {
   "cell_type": "markdown",
   "id": "925c917b",
   "metadata": {},
   "source": [
    "Importar bibliotecas de machine learning e funções importantes para a construçãod o modelo"
   ]
  },
  {
   "cell_type": "code",
   "execution_count": 31,
   "id": "196ab7c8",
   "metadata": {},
   "outputs": [],
   "source": [
    "from sklearn.preprocessing import LabelEncoder, StandardScaler\n",
    "\n",
    "label_encoders = {}\n",
    "for column in obitos.select_dtypes(include=['object']).columns:\n",
    "    le = LabelEncoder()\n",
    "    obitos[column] = le.fit_transform(obitos[column])\n",
    "    label_encoders[column] = le"
   ]
  },
  {
   "cell_type": "markdown",
   "id": "d198e5a9",
   "metadata": {},
   "source": [
    "Label encoding é uma técnica de codificação de rótulos para converter colunas categóricas em numéricas em um DataFrame chamado `obitos`. \n",
    "O LabelEncoder é uma classe do `sklearn.preprocessing` que pode transformar rótulos categóricos em números.\n",
    "\n",
    "> `label_encoders = {}` inicializa um dicionário vazio chamado `label_encoders`. Este dicionário será usado para armazenar os codificadores de rótulos (LabelEncoders) para cada coluna, para que possamos reverter a codificação mais tarde, se necessário.\n",
    "\n",
    "> Em seguinda, é feito um loop sobre cada coluna no DataFrame `obitos` que tem o tipo de dados 'object' (comum em strings).\n",
    "\n",
    "> `le = LabelEncoder()`: cria um novo codificador de rótulos. \n",
    "\n",
    "> `obitos[column] = le.fit_transform(obitos[column])`:  ajusta o codificador de rótulos à coluna atual e, em seguida, transforma os rótulos categóricos na coluna em números. Os números são atribuídos aos rótulos na ordem em que aparecem (por exemplo, o primeiro rótulo único que o codificador vê será codificado como 0, o segundo como 1, e assim por diante).\n",
    "\n",
    "> `label_encoders[column] = le`: Isso armazena o codificador de rótulos para a coluna atual no dicionário `label_encoders`. A chave é o nome da coluna e o valor é o codificador de rótulos.\n"
   ]
  },
  {
   "cell_type": "code",
   "execution_count": 116,
   "id": "40737a50",
   "metadata": {},
   "outputs": [],
   "source": [
    "if 'i_sexo' not in obitos.columns:\n",
    "    raise KeyError(\"A coluna 'i_sexo' não foi encontrada no DataFrame.\")"
   ]
  },
  {
   "cell_type": "markdown",
   "id": "f688a83c",
   "metadata": {},
   "source": [
    "X = obitos.drop('i_sexo', axis=1)\n",
    "y = obitos['i_sexo']"
   ]
  },
  {
   "cell_type": "code",
   "execution_count": 117,
   "id": "d779b2d7",
   "metadata": {},
   "outputs": [],
   "source": [
    "X = obitos.drop('i_idade_anos', axis=1)\n",
    "y = obitos['i_idade_anos']"
   ]
  },
  {
   "cell_type": "markdown",
   "id": "3f421744",
   "metadata": {},
   "source": [
    "Dividir em treino e teste"
   ]
  },
  {
   "cell_type": "code",
   "execution_count": 118,
   "id": "7322e163",
   "metadata": {},
   "outputs": [],
   "source": [
    "X_train, X_test, y_train, y_test = train_test_split(X, y, test_size=1000, train_size=1000, random_state=42)"
   ]
  },
  {
   "cell_type": "markdown",
   "id": "b6dc539d",
   "metadata": {},
   "source": [
    "Treinando o modelo"
   ]
  },
  {
   "cell_type": "code",
   "execution_count": 119,
   "id": "af2c4812",
   "metadata": {},
   "outputs": [
    {
     "name": "stderr",
     "output_type": "stream",
     "text": [
      "C:\\ProgramData\\Anaconda3\\lib\\site-packages\\sklearn\\linear_model\\_logistic.py:814: ConvergenceWarning: lbfgs failed to converge (status=1):\n",
      "STOP: TOTAL NO. of ITERATIONS REACHED LIMIT.\n",
      "\n",
      "Increase the number of iterations (max_iter) or scale the data as shown in:\n",
      "    https://scikit-learn.org/stable/modules/preprocessing.html\n",
      "Please also refer to the documentation for alternative solver options:\n",
      "    https://scikit-learn.org/stable/modules/linear_model.html#logistic-regression\n",
      "  n_iter_i = _check_optimize_result(\n"
     ]
    },
    {
     "data": {
      "text/plain": [
       "LogisticRegression()"
      ]
     },
     "execution_count": 119,
     "metadata": {},
     "output_type": "execute_result"
    }
   ],
   "source": [
    "model = LogisticRegression()\n",
    "model.fit(X_train, y_train)"
   ]
  },
  {
   "cell_type": "markdown",
   "id": "bf62aa65",
   "metadata": {},
   "source": [
    "A mensagem na caixa vermelha é um aviso de que o algoritmo de otimização (neste caso, ‘lbfgs’) usado pelo modelo de Regressão Logística do sklearn não conseguiu convergir, ou seja, não conseguiu encontrar uma solução ótima dentro do número máximo de iterações permitidas.\n",
    "Abaixo se dara continuidade ao treinamento e avaliações realizadas mesmo com a presença dessa mensagem."
   ]
  },
  {
   "cell_type": "code",
   "execution_count": 120,
   "id": "2fe8109b",
   "metadata": {},
   "outputs": [],
   "source": [
    "y_pred = model.predict(X_test)"
   ]
  },
  {
   "cell_type": "code",
   "execution_count": 121,
   "id": "1760b905",
   "metadata": {},
   "outputs": [
    {
     "name": "stdout",
     "output_type": "stream",
     "text": [
      "Erro Quadrático Médio (MSE): 454.84\n",
      "Coeficiente de Determinação (R²): 0.08\n"
     ]
    }
   ],
   "source": [
    "# Avaliar o modelo\n",
    "mse = mean_squared_error(y_test, y_pred)\n",
    "r2 = r2_score(y_test, y_pred)\n",
    "print(f'Erro Quadrático Médio (MSE): {mse:.2f}')\n",
    "print(f'Coeficiente de Determinação (R²): {r2:.2f}')"
   ]
  },
  {
   "cell_type": "markdown",
   "id": "dbd92e8b",
   "metadata": {},
   "source": [
    "#### Avaliação do modelo - Explicação das métricas\n",
    "Medidas:\n",
    ">Mean Squared Error (MSE) = Erro quadrático médio - é uma medida estatística utilizada para avaliar a qualidade de um modelo de previsão ou estimativa em relação aos valores reais. Ele é amplamente utilizado em diversas áreas, como estatística, econometria, aprendizado de máquina e engenharia, para medir o quão próximo as previsões estão dos valores reais.\n",
    "Ele fornece uma medida objetiva de quão bem o modelo está se ajustando aos dados reais. Quanto menor o valor do EQM, melhor é o desempenho do modelo, pois indica que as previsões estão mais próximas dos valores reais.\n",
    "\n",
    "> O R² é uma medida estatística de quão próximos os dados estão da linha de regressão ajustada. Ele também é conhecido como o coeficiente de determinação ou o coeficiente de determinação múltipla para a regressão múltipla.\n",
    "É a porcentagem da variação da variável resposta que é explicada por um modelo linear. \n",
    "O R-quadrado está sempre entre 0 e 100%:\n",
    "0% indica que o modelo não explica nada da variabilidade dos dados de resposta ao redor de sua média.\n",
    "100% indica que o modelo explica toda a variabilidade dos dados de resposta ao redor de sua média.\n",
    "Um valor de R² negativo, embora raro, pode ocorrer quando o modelo de regressão é completamente inadequado, ou seja, o modelo se ajusta tão mal aos dados que uma linha horizontal simples (representando a média dos dados) faria uma previsão melhor"
   ]
  },
  {
   "cell_type": "code",
   "execution_count": 122,
   "id": "a0ae2d6a",
   "metadata": {},
   "outputs": [
    {
     "name": "stdout",
     "output_type": "stream",
     "text": [
      "Acurácia: 0.057\n",
      "              precision    recall  f1-score   support\n",
      "\n",
      "         0.0       0.20      1.00      0.33        34\n",
      "         2.0       0.00      0.00      0.00         1\n",
      "         8.0       0.00      0.00      0.00         1\n",
      "        12.0       0.00      0.00      0.00         2\n",
      "        14.0       0.00      0.00      0.00         2\n",
      "        15.0       0.00      0.00      0.00         1\n",
      "        16.0       0.00      0.00      0.00         1\n",
      "        17.0       0.00      0.00      0.00         1\n",
      "        18.0       0.00      0.00      0.00         3\n",
      "        19.0       0.00      0.00      0.00         4\n",
      "        20.0       0.00      0.00      0.00         3\n",
      "        21.0       0.00      0.00      0.00         3\n",
      "        22.0       0.00      0.00      0.00         1\n",
      "        23.0       0.00      0.00      0.00         4\n",
      "        24.0       0.00      0.00      0.00         4\n",
      "        25.0       0.00      0.00      0.00         2\n",
      "        26.0       0.00      0.00      0.00         1\n",
      "        27.0       0.00      0.00      0.00         6\n",
      "        28.0       0.00      0.00      0.00         5\n",
      "        29.0       0.00      0.00      0.00         1\n",
      "        30.0       0.00      0.00      0.00         4\n",
      "        31.0       0.00      0.00      0.00         2\n",
      "        32.0       0.00      0.00      0.00         3\n",
      "        33.0       0.00      0.00      0.00         6\n",
      "        34.0       0.00      0.00      0.00         9\n",
      "        35.0       0.00      0.00      0.00         6\n",
      "        36.0       0.00      0.00      0.00        11\n",
      "        37.0       0.00      0.00      0.00        11\n",
      "        38.0       0.00      0.00      0.00         4\n",
      "        39.0       0.00      0.00      0.00         3\n",
      "        40.0       0.00      0.00      0.00         6\n",
      "        41.0       0.00      0.00      0.00        10\n",
      "        42.0       0.00      0.00      0.00         8\n",
      "        43.0       0.00      0.00      0.00        11\n",
      "        44.0       0.00      0.00      0.00        11\n",
      "        45.0       0.00      0.00      0.00         7\n",
      "        46.0       0.00      0.00      0.00         7\n",
      "        47.0       0.00      0.00      0.00         7\n",
      "        48.0       0.00      0.00      0.00        15\n",
      "        49.0       0.00      0.00      0.00        13\n",
      "        50.0       0.00      0.00      0.00         9\n",
      "        51.0       0.00      0.00      0.00        10\n",
      "        52.0       0.00      0.00      0.00         7\n",
      "        53.0       0.00      0.00      0.00        12\n",
      "        54.0       0.00      0.00      0.00        16\n",
      "        55.0       0.00      0.00      0.00        13\n",
      "        56.0       0.00      0.00      0.00        14\n",
      "        57.0       0.00      0.00      0.00        14\n",
      "        58.0       0.00      0.00      0.00        12\n",
      "        59.0       0.00      0.00      0.00        27\n",
      "        60.0       0.00      0.00      0.00        11\n",
      "        61.0       0.00      0.00      0.00        14\n",
      "        62.0       0.00      0.00      0.00        12\n",
      "        63.0       0.00      0.00      0.00        17\n",
      "        64.0       0.00      0.00      0.00        12\n",
      "        65.0       0.00      0.00      0.00        27\n",
      "        66.0       0.00      0.00      0.00        18\n",
      "        67.0       0.00      0.00      0.00        17\n",
      "        68.0       0.00      0.00      0.00        14\n",
      "        69.0       0.02      0.06      0.03        18\n",
      "        70.0       0.03      0.31      0.05        16\n",
      "        71.0       0.00      0.00      0.00        19\n",
      "        72.0       0.00      0.00      0.00        28\n",
      "        73.0       0.00      0.00      0.00        18\n",
      "        74.0       0.00      0.00      0.00        15\n",
      "        75.0       0.00      0.00      0.00        23\n",
      "        76.0       0.03      0.14      0.05        21\n",
      "        77.0       0.00      0.00      0.00        20\n",
      "        78.0       0.00      0.00      0.00        21\n",
      "        79.0       0.00      0.00      0.00        23\n",
      "        80.0       0.04      0.22      0.07        27\n",
      "        81.0       0.04      0.36      0.07        14\n",
      "        82.0       0.00      0.00      0.00        21\n",
      "        83.0       0.04      0.14      0.06        22\n",
      "        84.0       0.00      0.00      0.00        16\n",
      "        85.0       0.00      0.00      0.00        25\n",
      "        86.0       0.00      0.00      0.00        14\n",
      "        87.0       0.00      0.00      0.00        18\n",
      "        88.0       0.00      0.00      0.00        14\n",
      "        89.0       0.00      0.00      0.00        15\n",
      "        90.0       0.00      0.00      0.00        20\n",
      "        91.0       0.00      0.00      0.00        12\n",
      "        92.0       0.00      0.00      0.00         9\n",
      "        93.0       0.00      0.00      0.00        11\n",
      "        94.0       0.00      0.00      0.00         3\n",
      "        95.0       0.00      0.00      0.00         7\n",
      "        96.0       0.00      0.00      0.00         7\n",
      "        97.0       0.00      0.00      0.00         5\n",
      "        98.0       0.00      0.00      0.00         1\n",
      "        99.0       0.00      0.00      0.00         2\n",
      "       101.0       0.00      0.00      0.00         3\n",
      "       103.0       0.00      0.00      0.00         1\n",
      "       104.0       0.00      0.00      0.00         1\n",
      "\n",
      "    accuracy                           0.06      1000\n",
      "   macro avg       0.00      0.02      0.01      1000\n",
      "weighted avg       0.01      0.06      0.02      1000\n",
      "\n"
     ]
    },
    {
     "name": "stderr",
     "output_type": "stream",
     "text": [
      "C:\\ProgramData\\Anaconda3\\lib\\site-packages\\sklearn\\metrics\\_classification.py:1318: UndefinedMetricWarning: Precision and F-score are ill-defined and being set to 0.0 in labels with no predicted samples. Use `zero_division` parameter to control this behavior.\n",
      "  _warn_prf(average, modifier, msg_start, len(result))\n",
      "C:\\ProgramData\\Anaconda3\\lib\\site-packages\\sklearn\\metrics\\_classification.py:1318: UndefinedMetricWarning: Precision and F-score are ill-defined and being set to 0.0 in labels with no predicted samples. Use `zero_division` parameter to control this behavior.\n",
      "  _warn_prf(average, modifier, msg_start, len(result))\n",
      "C:\\ProgramData\\Anaconda3\\lib\\site-packages\\sklearn\\metrics\\_classification.py:1318: UndefinedMetricWarning: Precision and F-score are ill-defined and being set to 0.0 in labels with no predicted samples. Use `zero_division` parameter to control this behavior.\n",
      "  _warn_prf(average, modifier, msg_start, len(result))\n"
     ]
    }
   ],
   "source": [
    "accuracy = accuracy_score(y_test, y_pred)\n",
    "print(f'Acurácia: {accuracy}')\n",
    "print(classification_report(y_test, y_pred))"
   ]
  },
  {
   "cell_type": "markdown",
   "id": "dc220396",
   "metadata": {},
   "source": [
    "Acurácia é a precisão do modelo. "
   ]
  },
  {
   "cell_type": "code",
   "execution_count": 123,
   "id": "bac26603",
   "metadata": {},
   "outputs": [
    {
     "name": "stdout",
     "output_type": "stream",
     "text": [
      "Matriz de Confusão:\n",
      " [[34  0  0 ...  0  0  0]\n",
      " [ 0  0  0 ...  0  0  0]\n",
      " [ 1  0  0 ...  0  0  0]\n",
      " ...\n",
      " [ 0  0  0 ...  0  0  0]\n",
      " [ 0  0  0 ...  0  0  0]\n",
      " [ 0  0  0 ...  0  0  0]]\n"
     ]
    }
   ],
   "source": [
    "# Matriz de confusão\n",
    "conf_matrix = confusion_matrix(y_test, y_pred)\n",
    "print(\"Matriz de Confusão:\\n\", conf_matrix)"
   ]
  },
  {
   "attachments": {},
   "cell_type": "markdown",
   "id": "524e6c61",
   "metadata": {},
   "source": [
    "<img src=\"https://www.researchgate.net/profile/Sandra-Avila-5/publication/353340459/figure/fig1/AS:1078517265641473@1634149962531/Figura-1-Exemplo-de-matriz-de-confusao-para-classificadores-binarios.ppm\" width=\"500\">\n"
   ]
  },
  {
   "cell_type": "markdown",
   "id": "7a77372b",
   "metadata": {},
   "source": [
    " Aqui foi implementado um aumento do número de iterações para tentar corrigir a mensagem mostrada anteriormente."
   ]
  },
  {
   "cell_type": "code",
   "execution_count": 130,
   "id": "575e0f77",
   "metadata": {},
   "outputs": [
    {
     "name": "stderr",
     "output_type": "stream",
     "text": [
      "C:\\ProgramData\\Anaconda3\\lib\\site-packages\\sklearn\\linear_model\\_logistic.py:814: ConvergenceWarning: lbfgs failed to converge (status=1):\n",
      "STOP: TOTAL NO. of ITERATIONS REACHED LIMIT.\n",
      "\n",
      "Increase the number of iterations (max_iter) or scale the data as shown in:\n",
      "    https://scikit-learn.org/stable/modules/preprocessing.html\n",
      "Please also refer to the documentation for alternative solver options:\n",
      "    https://scikit-learn.org/stable/modules/linear_model.html#logistic-regression\n",
      "  n_iter_i = _check_optimize_result(\n"
     ]
    },
    {
     "data": {
      "text/plain": [
       "LogisticRegression(max_iter=4000)"
      ]
     },
     "execution_count": 130,
     "metadata": {},
     "output_type": "execute_result"
    }
   ],
   "source": [
    "model = LogisticRegression(max_iter=4000)\n",
    "model.fit(X_train, y_train)"
   ]
  },
  {
   "cell_type": "code",
   "execution_count": 131,
   "id": "a2e6ce17",
   "metadata": {},
   "outputs": [],
   "source": [
    "y_pred = model.predict(X_test)"
   ]
  },
  {
   "cell_type": "code",
   "execution_count": 135,
   "id": "05e05df5",
   "metadata": {},
   "outputs": [
    {
     "name": "stdout",
     "output_type": "stream",
     "text": [
      "Erro Quadrático Médio (MSE): 62.19\n",
      "Coeficiente de Determinação (R²): 0.87\n"
     ]
    }
   ],
   "source": [
    "# Avaliar o modelo\n",
    "mse = mean_squared_error(y_test, y_pred)\n",
    "r2 = r2_score(y_test, y_pred)\n",
    "print(f'Erro Quadrático Médio (MSE): {mse:.2f}')\n",
    "print(f'Coeficiente de Determinação (R²): {r2:.2f}')"
   ]
  },
  {
   "cell_type": "code",
   "execution_count": 136,
   "id": "a610e6a6",
   "metadata": {},
   "outputs": [
    {
     "name": "stdout",
     "output_type": "stream",
     "text": [
      "Accuracy: 0.099\n",
      "              precision    recall  f1-score   support\n",
      "\n",
      "         0.0       0.92      1.00      0.96        34\n",
      "         1.0       0.00      0.00      0.00         0\n",
      "         2.0       0.00      0.00      0.00         1\n",
      "         3.0       0.00      0.00      0.00         0\n",
      "         8.0       0.00      0.00      0.00         1\n",
      "        10.0       0.00      0.00      0.00         0\n",
      "        12.0       0.00      0.00      0.00         2\n",
      "        14.0       0.00      0.00      0.00         2\n",
      "        15.0       0.00      0.00      0.00         1\n",
      "        16.0       0.00      0.00      0.00         1\n",
      "        17.0       0.20      1.00      0.33         1\n",
      "        18.0       0.00      0.00      0.00         3\n",
      "        19.0       0.00      0.00      0.00         4\n",
      "        20.0       0.00      0.00      0.00         3\n",
      "        21.0       0.00      0.00      0.00         3\n",
      "        22.0       0.00      0.00      0.00         1\n",
      "        23.0       0.00      0.00      0.00         4\n",
      "        24.0       0.50      0.25      0.33         4\n",
      "        25.0       0.00      0.00      0.00         2\n",
      "        26.0       0.00      0.00      0.00         1\n",
      "        27.0       0.00      0.00      0.00         6\n",
      "        28.0       0.00      0.00      0.00         5\n",
      "        29.0       0.00      0.00      0.00         1\n",
      "        30.0       0.00      0.00      0.00         4\n",
      "        31.0       0.00      0.00      0.00         2\n",
      "        32.0       0.00      0.00      0.00         3\n",
      "        33.0       0.00      0.00      0.00         6\n",
      "        34.0       0.14      0.11      0.12         9\n",
      "        35.0       0.00      0.00      0.00         6\n",
      "        36.0       0.00      0.00      0.00        11\n",
      "        37.0       0.00      0.00      0.00        11\n",
      "        38.0       0.00      0.00      0.00         4\n",
      "        39.0       0.00      0.00      0.00         3\n",
      "        40.0       0.00      0.00      0.00         6\n",
      "        41.0       0.00      0.00      0.00        10\n",
      "        42.0       0.00      0.00      0.00         8\n",
      "        43.0       0.00      0.00      0.00        11\n",
      "        44.0       0.17      0.09      0.12        11\n",
      "        45.0       0.00      0.00      0.00         7\n",
      "        46.0       0.33      0.14      0.20         7\n",
      "        47.0       0.00      0.00      0.00         7\n",
      "        48.0       0.00      0.00      0.00        15\n",
      "        49.0       0.08      0.08      0.08        13\n",
      "        50.0       0.00      0.00      0.00         9\n",
      "        51.0       0.00      0.00      0.00        10\n",
      "        52.0       0.00      0.00      0.00         7\n",
      "        53.0       0.00      0.00      0.00        12\n",
      "        54.0       0.11      0.25      0.16        16\n",
      "        55.0       0.13      0.15      0.14        13\n",
      "        56.0       0.08      0.07      0.07        14\n",
      "        57.0       0.00      0.00      0.00        14\n",
      "        58.0       0.00      0.00      0.00        12\n",
      "        59.0       0.20      0.04      0.06        27\n",
      "        60.0       0.04      0.09      0.06        11\n",
      "        61.0       0.00      0.00      0.00        14\n",
      "        62.0       0.00      0.00      0.00        12\n",
      "        63.0       0.00      0.00      0.00        17\n",
      "        64.0       0.00      0.00      0.00        12\n",
      "        65.0       0.00      0.00      0.00        27\n",
      "        66.0       0.11      0.22      0.15        18\n",
      "        67.0       0.04      0.06      0.05        17\n",
      "        68.0       0.05      0.14      0.07        14\n",
      "        69.0       0.09      0.22      0.12        18\n",
      "        70.0       0.15      0.38      0.21        16\n",
      "        71.0       0.07      0.11      0.09        19\n",
      "        72.0       0.33      0.04      0.06        28\n",
      "        73.0       0.17      0.11      0.13        18\n",
      "        74.0       0.00      0.00      0.00        15\n",
      "        75.0       0.00      0.00      0.00        23\n",
      "        76.0       0.11      0.10      0.10        21\n",
      "        77.0       0.00      0.00      0.00        20\n",
      "        78.0       0.18      0.10      0.12        21\n",
      "        79.0       0.12      0.04      0.06        23\n",
      "        80.0       0.07      0.19      0.10        27\n",
      "        81.0       0.09      0.50      0.15        14\n",
      "        82.0       0.14      0.14      0.14        21\n",
      "        83.0       0.07      0.18      0.10        22\n",
      "        84.0       0.00      0.00      0.00        16\n",
      "        85.0       0.11      0.08      0.09        25\n",
      "        86.0       0.00      0.00      0.00        14\n",
      "        87.0       0.00      0.00      0.00        18\n",
      "        88.0       0.09      0.07      0.08        14\n",
      "        89.0       0.00      0.00      0.00        15\n",
      "        90.0       0.08      0.05      0.06        20\n",
      "        91.0       0.00      0.00      0.00        12\n",
      "        92.0       0.00      0.00      0.00         9\n",
      "        93.0       0.00      0.00      0.00        11\n",
      "        94.0       0.00      0.00      0.00         3\n",
      "        95.0       0.00      0.00      0.00         7\n",
      "        96.0       0.00      0.00      0.00         7\n",
      "        97.0       0.00      0.00      0.00         5\n",
      "        98.0       0.00      0.00      0.00         1\n",
      "        99.0       0.00      0.00      0.00         2\n",
      "       100.0       0.00      0.00      0.00         0\n",
      "       101.0       0.00      0.00      0.00         3\n",
      "       103.0       0.00      0.00      0.00         1\n",
      "       104.0       0.00      0.00      0.00         1\n",
      "\n",
      "    accuracy                           0.10      1000\n",
      "   macro avg       0.05      0.06      0.05      1000\n",
      "weighted avg       0.09      0.10      0.08      1000\n",
      "\n"
     ]
    },
    {
     "name": "stderr",
     "output_type": "stream",
     "text": [
      "C:\\ProgramData\\Anaconda3\\lib\\site-packages\\sklearn\\metrics\\_classification.py:1318: UndefinedMetricWarning: Precision and F-score are ill-defined and being set to 0.0 in labels with no predicted samples. Use `zero_division` parameter to control this behavior.\n",
      "  _warn_prf(average, modifier, msg_start, len(result))\n",
      "C:\\ProgramData\\Anaconda3\\lib\\site-packages\\sklearn\\metrics\\_classification.py:1318: UndefinedMetricWarning: Recall and F-score are ill-defined and being set to 0.0 in labels with no true samples. Use `zero_division` parameter to control this behavior.\n",
      "  _warn_prf(average, modifier, msg_start, len(result))\n",
      "C:\\ProgramData\\Anaconda3\\lib\\site-packages\\sklearn\\metrics\\_classification.py:1318: UndefinedMetricWarning: Precision and F-score are ill-defined and being set to 0.0 in labels with no predicted samples. Use `zero_division` parameter to control this behavior.\n",
      "  _warn_prf(average, modifier, msg_start, len(result))\n",
      "C:\\ProgramData\\Anaconda3\\lib\\site-packages\\sklearn\\metrics\\_classification.py:1318: UndefinedMetricWarning: Recall and F-score are ill-defined and being set to 0.0 in labels with no true samples. Use `zero_division` parameter to control this behavior.\n",
      "  _warn_prf(average, modifier, msg_start, len(result))\n",
      "C:\\ProgramData\\Anaconda3\\lib\\site-packages\\sklearn\\metrics\\_classification.py:1318: UndefinedMetricWarning: Precision and F-score are ill-defined and being set to 0.0 in labels with no predicted samples. Use `zero_division` parameter to control this behavior.\n",
      "  _warn_prf(average, modifier, msg_start, len(result))\n",
      "C:\\ProgramData\\Anaconda3\\lib\\site-packages\\sklearn\\metrics\\_classification.py:1318: UndefinedMetricWarning: Recall and F-score are ill-defined and being set to 0.0 in labels with no true samples. Use `zero_division` parameter to control this behavior.\n",
      "  _warn_prf(average, modifier, msg_start, len(result))\n"
     ]
    }
   ],
   "source": [
    "accuracy = accuracy_score(y_test, y_pred)\n",
    "print(f'Accuracy: {accuracy}')\n",
    "print(classification_report(y_test, y_pred))"
   ]
  },
  {
   "cell_type": "code",
   "execution_count": 137,
   "id": "dac7496f",
   "metadata": {},
   "outputs": [
    {
     "name": "stdout",
     "output_type": "stream",
     "text": [
      "Matriz de Confusão:\n",
      " [[34  0  0 ...  0  0  0]\n",
      " [ 0  0  0 ...  0  0  0]\n",
      " [ 0  0  0 ...  0  0  0]\n",
      " ...\n",
      " [ 0  0  0 ...  0  0  0]\n",
      " [ 0  0  0 ...  0  0  0]\n",
      " [ 0  0  0 ...  0  0  0]]\n"
     ]
    }
   ],
   "source": [
    "# Matriz de confusão\n",
    "conf_matrix = confusion_matrix(y_test, y_pred)\n",
    "print(\"Matriz de Confusão:\\n\", conf_matrix)"
   ]
  },
  {
   "cell_type": "markdown",
   "id": "5f95e7b8",
   "metadata": {},
   "source": [
    "Não foi mostrada a mensagem de aviso novamente, entretando, as métricas tiveram resultados muito próximo e a conclusão é que o modelo de regressão logística é inadequado."
   ]
  },
  {
   "cell_type": "markdown",
   "id": "ca91cb77",
   "metadata": {},
   "source": [
    "### Modelo de Regressão Linear"
   ]
  },
  {
   "cell_type": "markdown",
   "id": "0c482bfa",
   "metadata": {},
   "source": [
    "Serão repetidos passos já explicados anteriormente, bem como algumas métricas."
   ]
  },
  {
   "cell_type": "code",
   "execution_count": 138,
   "id": "61a1634f",
   "metadata": {},
   "outputs": [],
   "source": [
    "X = obitos.drop('i_idade_anos', axis=1)\n",
    "y = obitos['i_idade_anos']"
   ]
  },
  {
   "cell_type": "code",
   "execution_count": 139,
   "id": "9126413b",
   "metadata": {},
   "outputs": [],
   "source": [
    "X_train, X_test, y_train, y_test = train_test_split(X, y, test_size=1000, train_size=1000, random_state=42)"
   ]
  },
  {
   "cell_type": "code",
   "execution_count": 140,
   "id": "a08a4136",
   "metadata": {},
   "outputs": [],
   "source": [
    "# Normalizar os dados\n",
    "scaler = StandardScaler()\n",
    "X_train = scaler.fit_transform(X_train)\n",
    "X_test = scaler.transform(X_test)"
   ]
  },
  {
   "cell_type": "code",
   "execution_count": 141,
   "id": "5fff3108",
   "metadata": {},
   "outputs": [
    {
     "data": {
      "text/plain": [
       "LinearRegression()"
      ]
     },
     "execution_count": 141,
     "metadata": {},
     "output_type": "execute_result"
    }
   ],
   "source": [
    "model = LinearRegression()\n",
    "model.fit(X_train, y_train)"
   ]
  },
  {
   "cell_type": "code",
   "execution_count": 142,
   "id": "59c2cb33",
   "metadata": {},
   "outputs": [],
   "source": [
    "# Fazer previsões\n",
    "y_pred = model.predict(X_test)"
   ]
  },
  {
   "cell_type": "code",
   "execution_count": 143,
   "id": "da42c7fa",
   "metadata": {},
   "outputs": [
    {
     "name": "stdout",
     "output_type": "stream",
     "text": [
      "Erro Quadrático Médio (MSE): 12.77\n",
      "Coeficiente de Determinação (R²): 0.97\n"
     ]
    }
   ],
   "source": [
    "# Avaliar o modelo\n",
    "mse = mean_squared_error(y_test, y_pred)\n",
    "r2 = r2_score(y_test, y_pred)\n",
    "print(f'Erro Quadrático Médio (MSE): {mse:.2f}')\n",
    "print(f'Coeficiente de Determinação (R²): {r2:.2f}')"
   ]
  },
  {
   "cell_type": "code",
   "execution_count": 144,
   "id": "db707903",
   "metadata": {},
   "outputs": [
    {
     "name": "stdout",
     "output_type": "stream",
     "text": [
      "Erro Quadrático Médio (MSE): 12.77\n",
      "Raiz do Erro Quadrático Médio (RMSE): 3.57\n",
      "Erro Absoluto Médio (MAE): 2.49\n",
      "Coeficiente de Determinação (R²): 0.97\n"
     ]
    }
   ],
   "source": [
    "mse = mean_squared_error(y_test, y_pred)\n",
    "rmse = mean_squared_error(y_test, y_pred, squared=False)\n",
    "mae = mean_absolute_error(y_test, y_pred)\n",
    "r2 = r2_score(y_test, y_pred)\n",
    "\n",
    "print(f'Erro Quadrático Médio (MSE): {mse:.2f}')\n",
    "print(f'Raiz do Erro Quadrático Médio (RMSE): {rmse:.2f}')\n",
    "print(f'Erro Absoluto Médio (MAE): {mae:.2f}')\n",
    "print(f'Coeficiente de Determinação (R²): {r2:.2f}')"
   ]
  },
  {
   "cell_type": "markdown",
   "id": "a62172e4",
   "metadata": {},
   "source": [
    "#### Explicando as métricas\n",
    "Raiz do Erro Quadrático Médio (RMSE): é basicamente o mesmo cálculo de MSE, contendo ainda a mesma ideia de penalização entre diferenças grandes do valor previsto e o real. Porém, para lidar com o problema da diferença entre unidades, é aplicada a raiz quadrática, assim a unidade fica na mesma escala que o dado original, resultando em uma melhor interpretabilidade do resultado da métrica.\n",
    "O erro médio absoluto (MAE — do inglês Mean Absoluto Error), mede a média da diferença entre o valor real com o predito. Mas por haver valores positivos e negativos, é adicionado um módulo entre a diferença dos valores. Além disso, esta métrica não é afetada por outliers."
   ]
  },
  {
   "cell_type": "code",
   "execution_count": 52,
   "id": "c472ee09",
   "metadata": {},
   "outputs": [
    {
     "data": {
      "image/png": "[encoded data removed]",
      "text/plain": [
       "<Figure size 720x504 with 1 Axes>"
      ]
     },
     "metadata": {
      "needs_background": "light"
     },
     "output_type": "display_data"
    }
   ],
   "source": [
    "plt.figure(figsize=(10, 7))\n",
    "sns.scatterplot(x=y_test, y=y_pred)\n",
    "plt.xlabel('Actual Age')\n",
    "plt.ylabel('Predicted Age')\n",
    "plt.title('Actual vs Predicted Age')\n",
    "plt.show()"
   ]
  },
  {
   "cell_type": "markdown",
   "id": "5367ea91",
   "metadata": {},
   "source": [
    "O gráfico de dispersão mostra a relação entre a idade real (eixo x) e a idade prevista (eixo y) por um modelo de regressão linear. Os pontos representam as previsões do modelo para um conjunto de teste, após o treinamento com um conjunto de treinamento normalizado. A linha que parece formar um ângulo de 45 graus indica que o modelo está fazendo previsões razoavelmente próximas aos valores reais. No entanto, a presença de pontos afastados dessa linha sugere que há erros nas previsões para algumas idades."
   ]
  },
  {
   "cell_type": "markdown",
   "id": "aa58c6d4",
   "metadata": {},
   "source": [
    "## Conclusão\n",
    "A **regressão linear** é uma técnica de modelagem que é usada quando a variável dependente é contínua. Ela tenta modelar a relação entre uma ou mais variáveis independentes (ou características) e uma variável dependente (ou alvo) através de uma linha reta (ou um hiperplano em múltiplas dimensões).\n",
    "\n",
    "Por outro lado, a **regressão logística** é usada quando a variável dependente é categórica. Ela modela a probabilidade de uma determinada classe ou evento existir, como passar/falhar, ganhar/perder, vivo/morto, etc.\n",
    "\n",
    "Se você está tentando prever uma variável contínua, como a idade de uma pessoa ou o preço de uma casa, a regressão linear seria uma escolha melhor. Se você está tentando prever uma variável categórica, como se um email é spam ou não, a regressão logística seria mais apropriada."
   ]
  },
  {
   "cell_type": "code",
   "execution_count": null,
   "id": "80fa8dbe",
   "metadata": {},
   "outputs": [],
   "source": []
  }
 ],
 "metadata": {
  "kernelspec": {
   "display_name": "Python 3 (ipykernel)",
   "language": "python",
   "name": "python3"
  },
  "language_info": {
   "codemirror_mode": {
    "name": "ipython",
    "version": 3
   },
   "file_extension": ".py",
   "mimetype": "text/x-python",
   "name": "python",
   "nbconvert_exporter": "python",
   "pygments_lexer": "ipython3",
   "version": "3.9.12"
  }
 },
 "nbformat": 4,
 "nbformat_minor": 5
}
